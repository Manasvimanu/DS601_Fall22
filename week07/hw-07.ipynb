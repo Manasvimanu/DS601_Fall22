{
 "cells": [
  {
   "cell_type": "markdown",
   "metadata": {},
   "source": [
    "# Homework 7\n"
   ]
  },
  {
   "cell_type": "markdown",
   "metadata": {},
   "source": [
    "You are waiting on some datasets from different teams but the approval process may take some time. \n",
    "\n",
    "You have no intention to wait! You will generate some fake data to get started. \n",
    "\n",
    "Here are some info you expect from the management:\n",
    "* Employees dataset contains employee id, name, lastname, phone, state (~ 10K records) (Use states of US east coast only) \n",
    "* Salary dataset contains employee id, department id, yearly salary\n",
    "* Department dataset contains department id, department name (5-10 departments) \n",
    "\n",
    "Here are the questions expected to be answered:\n",
    "\n",
    "1. Visualize the average salary of each department\n",
    "1. Visualize the total number of employees living in each state for each department\n",
    "1. Visualize salary distribution of different states\n",
    "1. Visualize salary distribution of different departments\n",
    "\n",
    "You can use faker library (but you don't have to): https://faker.readthedocs.io/en/master/\n",
    "\n",
    "`Optional:` \n",
    "\n",
    "Try to make dataframes realistic. \n",
    "* Salary distribution as normal distribution\n",
    "* Salary of different states can be higher for 5-10K compared to other states\n"
   ]
  },
  {
   "cell_type": "code",
   "execution_count": 1,
   "metadata": {},
   "outputs": [],
   "source": [
    "import numpy as np\n",
    "import pandas as pd\n",
    "import matplotlib.pyplot as plt\n",
    "import seaborn as sns"
   ]
  },
  {
   "cell_type": "markdown",
   "metadata": {},
   "source": [
    "# CREATING FAKE DATASET"
   ]
  },
  {
   "cell_type": "markdown",
   "metadata": {},
   "source": [
    "## EMPLOYEE DATASET"
   ]
  },
  {
   "cell_type": "code",
   "execution_count": 2,
   "metadata": {},
   "outputs": [
    {
     "name": "stdout",
     "output_type": "stream",
     "text": [
      "15\n",
      "Length: 10000\n",
      "{'Rhode Island', 'New Hampshire', 'Delaware', 'New Jersy', 'Massachusetts', 'South Carolina', 'Maryland', 'New York', 'Maine', 'Virginia', 'Georgia', 'Connecticut', 'Florida', 'North Carolina', 'Pennsylvania'}\n",
      "15\n"
     ]
    }
   ],
   "source": [
    "import random\n",
    "from random import choices \n",
    "\n",
    "State=['Connecticut','Delaware','Florida','Georgia','Maine','Maryland','Massachusetts','New Hampshire','New Jersy','New York','North Carolina','Pennsylvania','Rhode Island','South Carolina','Virginia']\n",
    "print(len(State))\n",
    "\n",
    "STATES = choices(State, k=10000)\n",
    "print('Length:', len(STATES))\n",
    "print(set(STATES))\n",
    "print(len(set(STATES)))\n"
   ]
  },
  {
   "cell_type": "code",
   "execution_count": 3,
   "metadata": {},
   "outputs": [
    {
     "name": "stdout",
     "output_type": "stream",
     "text": [
      "Connecticut 660\n",
      "Delaware 738\n",
      "Florida 644\n",
      "Georgia 659\n",
      "Maine 669\n",
      "Maryland 673\n",
      "Massachusetts 653\n",
      "New Hampshire 615\n",
      "New Jersy 712\n",
      "New York 633\n",
      "North Carolina 662\n",
      "Pennsylvania 669\n",
      "Rhode Island 686\n",
      "South Carolina 701\n",
      "Virginia 626\n"
     ]
    }
   ],
   "source": [
    "for a in State:\n",
    "    print(a,STATES.count(a))"
   ]
  },
  {
   "cell_type": "code",
   "execution_count": 4,
   "metadata": {},
   "outputs": [
    {
     "name": "stdout",
     "output_type": "stream",
     "text": [
      "10000\n"
     ]
    },
    {
     "data": {
      "text/plain": [
       "[24201, 14666, 52349, 63886, 11649]"
      ]
     },
     "execution_count": 4,
     "metadata": {},
     "output_type": "execute_result"
    }
   ],
   "source": [
    "## employee id\n",
    "\n",
    "EMPID = random.sample(range(10001,99999),10000)\n",
    "EMPID\n",
    "print(len(set(EMPID)))\n",
    "EMPID[:5]"
   ]
  },
  {
   "cell_type": "code",
   "execution_count": 5,
   "metadata": {},
   "outputs": [
    {
     "name": "stdout",
     "output_type": "stream",
     "text": [
      "10000\n"
     ]
    },
    {
     "data": {
      "text/plain": [
       "[85278719, 81396993, 35726643, 38961515, 63780272]"
      ]
     },
     "execution_count": 5,
     "metadata": {},
     "output_type": "execute_result"
    }
   ],
   "source": [
    "## phone \n",
    "\n",
    "Phone = random.sample(range(10000001,99999999),10000)\n",
    "Phone\n",
    "print(len(set(Phone)))\n",
    "Phone[:5]"
   ]
  },
  {
   "cell_type": "code",
   "execution_count": 6,
   "metadata": {},
   "outputs": [
    {
     "name": "stdout",
     "output_type": "stream",
     "text": [
      "Requirement already satisfied: Faker in /opt/anaconda3/lib/python3.9/site-packages (15.1.1)\r\n",
      "Requirement already satisfied: python-dateutil>=2.4 in /opt/anaconda3/lib/python3.9/site-packages (from Faker) (2.8.2)\r\n",
      "Requirement already satisfied: six>=1.5 in /opt/anaconda3/lib/python3.9/site-packages (from python-dateutil>=2.4->Faker) (1.16.0)\r\n"
     ]
    }
   ],
   "source": [
    "!pip install Faker \n"
   ]
  },
  {
   "cell_type": "code",
   "execution_count": 7,
   "metadata": {},
   "outputs": [
    {
     "name": "stdout",
     "output_type": "stream",
     "text": [
      "6824\n",
      "['Reubin', 'Osborne', 'Alyssa', 'Lethia', 'Zoey']\n",
      "3176\n",
      "['Finley', 'Katlyn', 'Elder', 'Arne', 'Dayana']\n"
     ]
    }
   ],
   "source": [
    "#Firstname of the Employee  \n",
    "\n",
    "from faker.providers.person.en import Provider\n",
    "Fstnames = list(set(Provider.first_names))\n",
    "random.seed(44)\n",
    "random.shuffle(Fstnames)\n",
    "print(len(Fstnames))\n",
    "print(Fstnames[:5])\n",
    "Fstnames_2 = list(set(Provider.first_names))[:10000-6824]\n",
    "random.seed(42)\n",
    "random.shuffle(Fstnames_2)\n",
    "print(len(Fstnames_2))\n",
    "print(Fstnames_2[:5])"
   ]
  },
  {
   "cell_type": "code",
   "execution_count": 8,
   "metadata": {},
   "outputs": [
    {
     "name": "stdout",
     "output_type": "stream",
     "text": [
      "10000\n",
      "['Danniel', 'Coralie', 'River', 'Rodrigo', 'Darry']\n"
     ]
    }
   ],
   "source": [
    "Fstnames.extend(Fstnames_2)\n",
    "random.shuffle(Fstnames)\n",
    "\n",
    "print(len(Fstnames))\n",
    "print(Fstnames[:5])"
   ]
  },
  {
   "cell_type": "code",
   "execution_count": 9,
   "metadata": {},
   "outputs": [
    {
     "name": "stdout",
     "output_type": "stream",
     "text": [
      "473\n",
      "['Danniel', 'Coralie', 'River', 'Rodrigo', 'Darry']\n",
      "10000\n"
     ]
    },
    {
     "data": {
      "text/plain": [
       "['Tromp', \"D'Amore\", 'Halvorson', 'Berge', 'Torp']"
      ]
     },
     "execution_count": 9,
     "metadata": {},
     "output_type": "execute_result"
    }
   ],
   "source": [
    "# lastname\n",
    "\n",
    "from faker.providers.person.en import Provider\n",
    "\n",
    "Lstnames = list(Provider.last_names)\n",
    "\n",
    "random.seed(44)\n",
    "random.shuffle(Lstnames)\n",
    "\n",
    "print(len(Lstnames))\n",
    "print(Fstnames[:5])\n",
    "\n",
    "Lstnames = Lstnames*30\n",
    "Lstnames = Lstnames[:10000]\n",
    "random.shuffle(Lstnames)\n",
    "print(len(Lstnames))\n",
    "Lstnames[:5]"
   ]
  },
  {
   "cell_type": "code",
   "execution_count": 10,
   "metadata": {},
   "outputs": [
    {
     "name": "stdout",
     "output_type": "stream",
     "text": [
      "length: 10000 unique: 10000\n",
      "length: 10000 unique: 6824\n",
      "length: 10000 unique: 6824\n",
      "length: 10000 unique: 10000\n",
      "length: 10000 unique: 15\n"
     ]
    }
   ],
   "source": [
    "for a in [EMPID, Fstnames, Fstnames, Phone, STATES]:\n",
    "    print('length:', len(a), 'unique:', len(set(a)))"
   ]
  },
  {
   "cell_type": "code",
   "execution_count": 11,
   "metadata": {},
   "outputs": [
    {
     "data": {
      "text/html": [
       "<div>\n",
       "<style scoped>\n",
       "    .dataframe tbody tr th:only-of-type {\n",
       "        vertical-align: middle;\n",
       "    }\n",
       "\n",
       "    .dataframe tbody tr th {\n",
       "        vertical-align: top;\n",
       "    }\n",
       "\n",
       "    .dataframe thead th {\n",
       "        text-align: right;\n",
       "    }\n",
       "</style>\n",
       "<table border=\"1\" class=\"dataframe\">\n",
       "  <thead>\n",
       "    <tr style=\"text-align: right;\">\n",
       "      <th></th>\n",
       "      <th>EMPLOYEE ID</th>\n",
       "      <th>NAME</th>\n",
       "      <th>LASTNAME</th>\n",
       "      <th>PHONE</th>\n",
       "      <th>STATE</th>\n",
       "    </tr>\n",
       "  </thead>\n",
       "  <tbody>\n",
       "    <tr>\n",
       "      <th>0</th>\n",
       "      <td>24201</td>\n",
       "      <td>Danniel</td>\n",
       "      <td>Tromp</td>\n",
       "      <td>85278719</td>\n",
       "      <td>New York</td>\n",
       "    </tr>\n",
       "    <tr>\n",
       "      <th>1</th>\n",
       "      <td>14666</td>\n",
       "      <td>Coralie</td>\n",
       "      <td>D'Amore</td>\n",
       "      <td>81396993</td>\n",
       "      <td>New Hampshire</td>\n",
       "    </tr>\n",
       "    <tr>\n",
       "      <th>2</th>\n",
       "      <td>52349</td>\n",
       "      <td>River</td>\n",
       "      <td>Halvorson</td>\n",
       "      <td>35726643</td>\n",
       "      <td>Rhode Island</td>\n",
       "    </tr>\n",
       "    <tr>\n",
       "      <th>3</th>\n",
       "      <td>63886</td>\n",
       "      <td>Rodrigo</td>\n",
       "      <td>Berge</td>\n",
       "      <td>38961515</td>\n",
       "      <td>Delaware</td>\n",
       "    </tr>\n",
       "    <tr>\n",
       "      <th>4</th>\n",
       "      <td>11649</td>\n",
       "      <td>Darry</td>\n",
       "      <td>Torp</td>\n",
       "      <td>63780272</td>\n",
       "      <td>Florida</td>\n",
       "    </tr>\n",
       "  </tbody>\n",
       "</table>\n",
       "</div>"
      ],
      "text/plain": [
       "   EMPLOYEE ID     NAME   LASTNAME     PHONE          STATE\n",
       "0        24201  Danniel      Tromp  85278719       New York\n",
       "1        14666  Coralie    D'Amore  81396993  New Hampshire\n",
       "2        52349    River  Halvorson  35726643   Rhode Island\n",
       "3        63886  Rodrigo      Berge  38961515       Delaware\n",
       "4        11649    Darry       Torp  63780272        Florida"
      ]
     },
     "execution_count": 11,
     "metadata": {},
     "output_type": "execute_result"
    }
   ],
   "source": [
    "## Employee Dataframe\n",
    "\n",
    "Emp_df = pd.DataFrame({'EMPLOYEE ID':EMPID, 'NAME':Fstnames, 'LASTNAME':Lstnames, 'PHONE':Phone, 'STATE':STATES})\n",
    "Emp_df.head()"
   ]
  },
  {
   "cell_type": "code",
   "execution_count": 12,
   "metadata": {},
   "outputs": [
    {
     "name": "stdout",
     "output_type": "stream",
     "text": [
      "10000\n"
     ]
    },
    {
     "data": {
      "text/plain": [
       "EMPLOYEE ID    0\n",
       "NAME           0\n",
       "LASTNAME       0\n",
       "PHONE          0\n",
       "STATE          0\n",
       "dtype: int64"
      ]
     },
     "execution_count": 12,
     "metadata": {},
     "output_type": "execute_result"
    }
   ],
   "source": [
    "print(len(Emp_df))\n",
    "Emp_df.isnull().sum()"
   ]
  },
  {
   "cell_type": "markdown",
   "metadata": {},
   "source": [
    "# SALARY DATASET"
   ]
  },
  {
   "cell_type": "code",
   "execution_count": 13,
   "metadata": {},
   "outputs": [
    {
     "name": "stdout",
     "output_type": "stream",
     "text": [
      "10000\n"
     ]
    },
    {
     "data": {
      "text/plain": [
       "[7, 4, 7, 1, 3]"
      ]
     },
     "execution_count": 13,
     "metadata": {},
     "output_type": "execute_result"
    }
   ],
   "source": [
    "## department ID\n",
    "\n",
    "DPT_ID = [random.randint(1,7) for a in range(10000)]\n",
    "\n",
    "print(len(DPT_ID))\n",
    "DPT_ID[:5]"
   ]
  },
  {
   "cell_type": "code",
   "execution_count": 14,
   "metadata": {},
   "outputs": [
    {
     "name": "stdout",
     "output_type": "stream",
     "text": [
      "10000\n"
     ]
    },
    {
     "data": {
      "text/plain": [
       "[105355, 209417, 98478, 170477, 86713]"
      ]
     },
     "execution_count": 14,
     "metadata": {},
     "output_type": "execute_result"
    }
   ],
   "source": [
    "## salary anually \n",
    "\n",
    "Salary = [random.randint(50000,214000) for a in range(10000)]\n",
    "\n",
    "print(len(Salary))\n",
    "Salary[:5]"
   ]
  },
  {
   "cell_type": "code",
   "execution_count": 15,
   "metadata": {},
   "outputs": [
    {
     "data": {
      "text/html": [
       "<div>\n",
       "<style scoped>\n",
       "    .dataframe tbody tr th:only-of-type {\n",
       "        vertical-align: middle;\n",
       "    }\n",
       "\n",
       "    .dataframe tbody tr th {\n",
       "        vertical-align: top;\n",
       "    }\n",
       "\n",
       "    .dataframe thead th {\n",
       "        text-align: right;\n",
       "    }\n",
       "</style>\n",
       "<table border=\"1\" class=\"dataframe\">\n",
       "  <thead>\n",
       "    <tr style=\"text-align: right;\">\n",
       "      <th></th>\n",
       "      <th>EMPLOYEE ID</th>\n",
       "      <th>DEPARTMENT ID</th>\n",
       "      <th>YEARLY SALARY</th>\n",
       "    </tr>\n",
       "  </thead>\n",
       "  <tbody>\n",
       "    <tr>\n",
       "      <th>0</th>\n",
       "      <td>24201</td>\n",
       "      <td>7</td>\n",
       "      <td>105355</td>\n",
       "    </tr>\n",
       "    <tr>\n",
       "      <th>1</th>\n",
       "      <td>14666</td>\n",
       "      <td>4</td>\n",
       "      <td>209417</td>\n",
       "    </tr>\n",
       "    <tr>\n",
       "      <th>2</th>\n",
       "      <td>52349</td>\n",
       "      <td>7</td>\n",
       "      <td>98478</td>\n",
       "    </tr>\n",
       "    <tr>\n",
       "      <th>3</th>\n",
       "      <td>63886</td>\n",
       "      <td>1</td>\n",
       "      <td>170477</td>\n",
       "    </tr>\n",
       "    <tr>\n",
       "      <th>4</th>\n",
       "      <td>11649</td>\n",
       "      <td>3</td>\n",
       "      <td>86713</td>\n",
       "    </tr>\n",
       "  </tbody>\n",
       "</table>\n",
       "</div>"
      ],
      "text/plain": [
       "   EMPLOYEE ID  DEPARTMENT ID  YEARLY SALARY\n",
       "0        24201              7         105355\n",
       "1        14666              4         209417\n",
       "2        52349              7          98478\n",
       "3        63886              1         170477\n",
       "4        11649              3          86713"
      ]
     },
     "execution_count": 15,
     "metadata": {},
     "output_type": "execute_result"
    }
   ],
   "source": [
    "Salary_df = pd.DataFrame({'EMPLOYEE ID':EMPID, 'DEPARTMENT ID':DPT_ID, 'YEARLY SALARY':Salary})\n",
    "Salary_df.head()"
   ]
  },
  {
   "cell_type": "code",
   "execution_count": 16,
   "metadata": {},
   "outputs": [
    {
     "name": "stdout",
     "output_type": "stream",
     "text": [
      "10000\n"
     ]
    },
    {
     "data": {
      "text/plain": [
       "EMPLOYEE ID      0\n",
       "DEPARTMENT ID    0\n",
       "YEARLY SALARY    0\n",
       "dtype: int64"
      ]
     },
     "execution_count": 16,
     "metadata": {},
     "output_type": "execute_result"
    }
   ],
   "source": [
    "print(len(Salary_df))\n",
    "Salary_df.isnull().sum()"
   ]
  },
  {
   "cell_type": "code",
   "execution_count": 17,
   "metadata": {},
   "outputs": [
    {
     "data": {
      "text/plain": [
       "array([7, 4, 1, 3, 5, 6, 2])"
      ]
     },
     "execution_count": 17,
     "metadata": {},
     "output_type": "execute_result"
    }
   ],
   "source": [
    "Salary_df['DEPARTMENT ID'].unique()"
   ]
  },
  {
   "cell_type": "markdown",
   "metadata": {},
   "source": [
    "# DEPARTMENT DATASET"
   ]
  },
  {
   "cell_type": "code",
   "execution_count": 18,
   "metadata": {},
   "outputs": [
    {
     "data": {
      "text/html": [
       "<div>\n",
       "<style scoped>\n",
       "    .dataframe tbody tr th:only-of-type {\n",
       "        vertical-align: middle;\n",
       "    }\n",
       "\n",
       "    .dataframe tbody tr th {\n",
       "        vertical-align: top;\n",
       "    }\n",
       "\n",
       "    .dataframe thead th {\n",
       "        text-align: right;\n",
       "    }\n",
       "</style>\n",
       "<table border=\"1\" class=\"dataframe\">\n",
       "  <thead>\n",
       "    <tr style=\"text-align: right;\">\n",
       "      <th></th>\n",
       "      <th>DEPARTMENT ID</th>\n",
       "    </tr>\n",
       "  </thead>\n",
       "  <tbody>\n",
       "    <tr>\n",
       "      <th>0</th>\n",
       "      <td>1</td>\n",
       "    </tr>\n",
       "    <tr>\n",
       "      <th>1</th>\n",
       "      <td>2</td>\n",
       "    </tr>\n",
       "    <tr>\n",
       "      <th>2</th>\n",
       "      <td>3</td>\n",
       "    </tr>\n",
       "    <tr>\n",
       "      <th>3</th>\n",
       "      <td>4</td>\n",
       "    </tr>\n",
       "    <tr>\n",
       "      <th>4</th>\n",
       "      <td>5</td>\n",
       "    </tr>\n",
       "    <tr>\n",
       "      <th>5</th>\n",
       "      <td>6</td>\n",
       "    </tr>\n",
       "    <tr>\n",
       "      <th>6</th>\n",
       "      <td>7</td>\n",
       "    </tr>\n",
       "  </tbody>\n",
       "</table>\n",
       "</div>"
      ],
      "text/plain": [
       "   DEPARTMENT ID\n",
       "0              1\n",
       "1              2\n",
       "2              3\n",
       "3              4\n",
       "4              5\n",
       "5              6\n",
       "6              7"
      ]
     },
     "execution_count": 18,
     "metadata": {},
     "output_type": "execute_result"
    }
   ],
   "source": [
    "DPT_ID = pd.DataFrame({'DEPARTMENT ID':list(range(1,8))})\n",
    "DPT_ID"
   ]
  },
  {
   "cell_type": "code",
   "execution_count": 19,
   "metadata": {},
   "outputs": [],
   "source": [
    "DEPARTMENT_DICT = {1:'Finance', 2:'Marketing', 3:'HR', 4:'IT', 4:'Sales', 5:'Procurement', 6:'Admin', 7:'Services'}\n",
    "\n",
    "DPT_ID['DEPARTMENT NAME'] = DPT_ID['DEPARTMENT ID'].map(DEPARTMENT_DICT)"
   ]
  },
  {
   "cell_type": "code",
   "execution_count": 20,
   "metadata": {},
   "outputs": [
    {
     "data": {
      "text/html": [
       "<div>\n",
       "<style scoped>\n",
       "    .dataframe tbody tr th:only-of-type {\n",
       "        vertical-align: middle;\n",
       "    }\n",
       "\n",
       "    .dataframe tbody tr th {\n",
       "        vertical-align: top;\n",
       "    }\n",
       "\n",
       "    .dataframe thead th {\n",
       "        text-align: right;\n",
       "    }\n",
       "</style>\n",
       "<table border=\"1\" class=\"dataframe\">\n",
       "  <thead>\n",
       "    <tr style=\"text-align: right;\">\n",
       "      <th></th>\n",
       "      <th>DEPARTMENT ID</th>\n",
       "      <th>DEPARTMENT NAME</th>\n",
       "    </tr>\n",
       "  </thead>\n",
       "  <tbody>\n",
       "    <tr>\n",
       "      <th>0</th>\n",
       "      <td>1</td>\n",
       "      <td>Finance</td>\n",
       "    </tr>\n",
       "    <tr>\n",
       "      <th>1</th>\n",
       "      <td>2</td>\n",
       "      <td>Marketing</td>\n",
       "    </tr>\n",
       "    <tr>\n",
       "      <th>2</th>\n",
       "      <td>3</td>\n",
       "      <td>HR</td>\n",
       "    </tr>\n",
       "    <tr>\n",
       "      <th>3</th>\n",
       "      <td>4</td>\n",
       "      <td>Sales</td>\n",
       "    </tr>\n",
       "    <tr>\n",
       "      <th>4</th>\n",
       "      <td>5</td>\n",
       "      <td>Procurement</td>\n",
       "    </tr>\n",
       "    <tr>\n",
       "      <th>5</th>\n",
       "      <td>6</td>\n",
       "      <td>Admin</td>\n",
       "    </tr>\n",
       "    <tr>\n",
       "      <th>6</th>\n",
       "      <td>7</td>\n",
       "      <td>Services</td>\n",
       "    </tr>\n",
       "  </tbody>\n",
       "</table>\n",
       "</div>"
      ],
      "text/plain": [
       "   DEPARTMENT ID DEPARTMENT NAME\n",
       "0              1         Finance\n",
       "1              2       Marketing\n",
       "2              3              HR\n",
       "3              4           Sales\n",
       "4              5     Procurement\n",
       "5              6           Admin\n",
       "6              7        Services"
      ]
     },
     "execution_count": 20,
     "metadata": {},
     "output_type": "execute_result"
    }
   ],
   "source": [
    "DPT_ID"
   ]
  },
  {
   "cell_type": "markdown",
   "metadata": {},
   "source": [
    "# 1. Visualize the average salary of each department"
   ]
  },
  {
   "cell_type": "code",
   "execution_count": 21,
   "metadata": {},
   "outputs": [
    {
     "data": {
      "text/plain": [
       "Index(['EMPLOYEE ID', 'DEPARTMENT ID', 'YEARLY SALARY'], dtype='object')"
      ]
     },
     "execution_count": 21,
     "metadata": {},
     "output_type": "execute_result"
    }
   ],
   "source": [
    "Salary_df.columns"
   ]
  },
  {
   "cell_type": "code",
   "execution_count": 22,
   "metadata": {},
   "outputs": [
    {
     "data": {
      "text/html": [
       "<div>\n",
       "<style scoped>\n",
       "    .dataframe tbody tr th:only-of-type {\n",
       "        vertical-align: middle;\n",
       "    }\n",
       "\n",
       "    .dataframe tbody tr th {\n",
       "        vertical-align: top;\n",
       "    }\n",
       "\n",
       "    .dataframe thead th {\n",
       "        text-align: right;\n",
       "    }\n",
       "</style>\n",
       "<table border=\"1\" class=\"dataframe\">\n",
       "  <thead>\n",
       "    <tr style=\"text-align: right;\">\n",
       "      <th></th>\n",
       "      <th>EMPLOYEE ID</th>\n",
       "      <th>DEPARTMENT ID</th>\n",
       "      <th>YEARLY SALARY</th>\n",
       "      <th>DEPARTMENT NAME</th>\n",
       "    </tr>\n",
       "  </thead>\n",
       "  <tbody>\n",
       "    <tr>\n",
       "      <th>0</th>\n",
       "      <td>24201</td>\n",
       "      <td>7</td>\n",
       "      <td>105355</td>\n",
       "      <td>Services</td>\n",
       "    </tr>\n",
       "    <tr>\n",
       "      <th>1</th>\n",
       "      <td>14666</td>\n",
       "      <td>4</td>\n",
       "      <td>209417</td>\n",
       "      <td>Sales</td>\n",
       "    </tr>\n",
       "    <tr>\n",
       "      <th>2</th>\n",
       "      <td>52349</td>\n",
       "      <td>7</td>\n",
       "      <td>98478</td>\n",
       "      <td>Services</td>\n",
       "    </tr>\n",
       "    <tr>\n",
       "      <th>3</th>\n",
       "      <td>63886</td>\n",
       "      <td>1</td>\n",
       "      <td>170477</td>\n",
       "      <td>Finance</td>\n",
       "    </tr>\n",
       "    <tr>\n",
       "      <th>4</th>\n",
       "      <td>11649</td>\n",
       "      <td>3</td>\n",
       "      <td>86713</td>\n",
       "      <td>HR</td>\n",
       "    </tr>\n",
       "  </tbody>\n",
       "</table>\n",
       "</div>"
      ],
      "text/plain": [
       "   EMPLOYEE ID  DEPARTMENT ID  YEARLY SALARY DEPARTMENT NAME\n",
       "0        24201              7         105355        Services\n",
       "1        14666              4         209417           Sales\n",
       "2        52349              7          98478        Services\n",
       "3        63886              1         170477         Finance\n",
       "4        11649              3          86713              HR"
      ]
     },
     "execution_count": 22,
     "metadata": {},
     "output_type": "execute_result"
    }
   ],
   "source": [
    "A1_DF = pd.merge(Salary_df, DPT_ID, how='left', on='DEPARTMENT ID')\n",
    "A1_DF.head()"
   ]
  },
  {
   "cell_type": "code",
   "execution_count": 23,
   "metadata": {},
   "outputs": [
    {
     "data": {
      "text/plain": [
       "<Figure size 1080x720 with 0 Axes>"
      ]
     },
     "metadata": {},
     "output_type": "display_data"
    },
    {
     "data": {
      "image/png": "[encoded data removed]",
      "text/plain": [
       "<Figure size 539.125x216 with 1 Axes>"
      ]
     },
     "metadata": {
      "needs_background": "light"
     },
     "output_type": "display_data"
    }
   ],
   "source": [
    "plt.figure(figsize=(15,10))\n",
    "\n",
    "sns.displot(kind= 'kde', data=A1_DF, hue='DEPARTMENT NAME', x='YEARLY SALARY',height= 3, aspect = 2)\n",
    "plt.title('AVERAGE SALARY OVER DEPARTMENTS')\n",
    "\n",
    "plt.show()\n"
   ]
  },
  {
   "cell_type": "markdown",
   "metadata": {},
   "source": [
    "We can see almost similar salaries for all departments."
   ]
  },
  {
   "cell_type": "markdown",
   "metadata": {},
   "source": [
    "# 2. Visualize the total number of employees living in each state for each department"
   ]
  },
  {
   "cell_type": "code",
   "execution_count": 24,
   "metadata": {},
   "outputs": [
    {
     "data": {
      "text/plain": [
       "Index(['EMPLOYEE ID', 'NAME', 'LASTNAME', 'PHONE', 'STATE'], dtype='object')"
      ]
     },
     "execution_count": 24,
     "metadata": {},
     "output_type": "execute_result"
    }
   ],
   "source": [
    "Emp_df.columns"
   ]
  },
  {
   "cell_type": "code",
   "execution_count": 25,
   "metadata": {},
   "outputs": [
    {
     "data": {
      "text/html": [
       "<div>\n",
       "<style scoped>\n",
       "    .dataframe tbody tr th:only-of-type {\n",
       "        vertical-align: middle;\n",
       "    }\n",
       "\n",
       "    .dataframe tbody tr th {\n",
       "        vertical-align: top;\n",
       "    }\n",
       "\n",
       "    .dataframe thead th {\n",
       "        text-align: right;\n",
       "    }\n",
       "</style>\n",
       "<table border=\"1\" class=\"dataframe\">\n",
       "  <thead>\n",
       "    <tr style=\"text-align: right;\">\n",
       "      <th></th>\n",
       "      <th>EMPLOYEE ID</th>\n",
       "      <th>DEPARTMENT ID</th>\n",
       "      <th>YEARLY SALARY</th>\n",
       "      <th>DEPARTMENT NAME</th>\n",
       "    </tr>\n",
       "  </thead>\n",
       "  <tbody>\n",
       "    <tr>\n",
       "      <th>0</th>\n",
       "      <td>24201</td>\n",
       "      <td>7</td>\n",
       "      <td>105355</td>\n",
       "      <td>Services</td>\n",
       "    </tr>\n",
       "    <tr>\n",
       "      <th>1</th>\n",
       "      <td>14666</td>\n",
       "      <td>4</td>\n",
       "      <td>209417</td>\n",
       "      <td>Sales</td>\n",
       "    </tr>\n",
       "    <tr>\n",
       "      <th>2</th>\n",
       "      <td>52349</td>\n",
       "      <td>7</td>\n",
       "      <td>98478</td>\n",
       "      <td>Services</td>\n",
       "    </tr>\n",
       "    <tr>\n",
       "      <th>3</th>\n",
       "      <td>63886</td>\n",
       "      <td>1</td>\n",
       "      <td>170477</td>\n",
       "      <td>Finance</td>\n",
       "    </tr>\n",
       "    <tr>\n",
       "      <th>4</th>\n",
       "      <td>11649</td>\n",
       "      <td>3</td>\n",
       "      <td>86713</td>\n",
       "      <td>HR</td>\n",
       "    </tr>\n",
       "  </tbody>\n",
       "</table>\n",
       "</div>"
      ],
      "text/plain": [
       "   EMPLOYEE ID  DEPARTMENT ID  YEARLY SALARY DEPARTMENT NAME\n",
       "0        24201              7         105355        Services\n",
       "1        14666              4         209417           Sales\n",
       "2        52349              7          98478        Services\n",
       "3        63886              1         170477         Finance\n",
       "4        11649              3          86713              HR"
      ]
     },
     "execution_count": 25,
     "metadata": {},
     "output_type": "execute_result"
    }
   ],
   "source": [
    "A2_df = pd.merge(Salary_df, DPT_ID, how='left', on='DEPARTMENT ID')\n",
    "A2_df.head()"
   ]
  },
  {
   "cell_type": "code",
   "execution_count": 26,
   "metadata": {},
   "outputs": [
    {
     "data": {
      "text/html": [
       "<div>\n",
       "<style scoped>\n",
       "    .dataframe tbody tr th:only-of-type {\n",
       "        vertical-align: middle;\n",
       "    }\n",
       "\n",
       "    .dataframe tbody tr th {\n",
       "        vertical-align: top;\n",
       "    }\n",
       "\n",
       "    .dataframe thead th {\n",
       "        text-align: right;\n",
       "    }\n",
       "</style>\n",
       "<table border=\"1\" class=\"dataframe\">\n",
       "  <thead>\n",
       "    <tr style=\"text-align: right;\">\n",
       "      <th></th>\n",
       "      <th>EMPLOYEE ID</th>\n",
       "      <th>DEPARTMENT ID</th>\n",
       "      <th>YEARLY SALARY</th>\n",
       "      <th>DEPARTMENT NAME</th>\n",
       "      <th>STATE</th>\n",
       "    </tr>\n",
       "  </thead>\n",
       "  <tbody>\n",
       "    <tr>\n",
       "      <th>0</th>\n",
       "      <td>24201</td>\n",
       "      <td>7</td>\n",
       "      <td>105355</td>\n",
       "      <td>Services</td>\n",
       "      <td>New York</td>\n",
       "    </tr>\n",
       "    <tr>\n",
       "      <th>1</th>\n",
       "      <td>14666</td>\n",
       "      <td>4</td>\n",
       "      <td>209417</td>\n",
       "      <td>Sales</td>\n",
       "      <td>New Hampshire</td>\n",
       "    </tr>\n",
       "    <tr>\n",
       "      <th>2</th>\n",
       "      <td>52349</td>\n",
       "      <td>7</td>\n",
       "      <td>98478</td>\n",
       "      <td>Services</td>\n",
       "      <td>Rhode Island</td>\n",
       "    </tr>\n",
       "    <tr>\n",
       "      <th>3</th>\n",
       "      <td>63886</td>\n",
       "      <td>1</td>\n",
       "      <td>170477</td>\n",
       "      <td>Finance</td>\n",
       "      <td>Delaware</td>\n",
       "    </tr>\n",
       "    <tr>\n",
       "      <th>4</th>\n",
       "      <td>11649</td>\n",
       "      <td>3</td>\n",
       "      <td>86713</td>\n",
       "      <td>HR</td>\n",
       "      <td>Florida</td>\n",
       "    </tr>\n",
       "  </tbody>\n",
       "</table>\n",
       "</div>"
      ],
      "text/plain": [
       "   EMPLOYEE ID  DEPARTMENT ID  YEARLY SALARY DEPARTMENT NAME          STATE\n",
       "0        24201              7         105355        Services       New York\n",
       "1        14666              4         209417           Sales  New Hampshire\n",
       "2        52349              7          98478        Services   Rhode Island\n",
       "3        63886              1         170477         Finance       Delaware\n",
       "4        11649              3          86713              HR        Florida"
      ]
     },
     "execution_count": 26,
     "metadata": {},
     "output_type": "execute_result"
    }
   ],
   "source": [
    "A2_df = pd.merge(A2_df, Emp_df[['EMPLOYEE ID', 'STATE']], how='left', on='EMPLOYEE ID')\n",
    "A2_df.head()"
   ]
  },
  {
   "cell_type": "code",
   "execution_count": 27,
   "metadata": {},
   "outputs": [
    {
     "data": {
      "text/plain": [
       "array(['New York', 'New Hampshire', 'Rhode Island', 'Delaware', 'Florida',\n",
       "       'New Jersy', 'Massachusetts', 'Pennsylvania', 'North Carolina',\n",
       "       'South Carolina', 'Georgia', 'Connecticut', 'Maine', 'Virginia',\n",
       "       'Maryland'], dtype=object)"
      ]
     },
     "execution_count": 27,
     "metadata": {},
     "output_type": "execute_result"
    }
   ],
   "source": [
    "A2_df['STATE'].unique()"
   ]
  },
  {
   "cell_type": "code",
   "execution_count": 28,
   "metadata": {},
   "outputs": [
    {
     "data": {
      "text/html": [
       "<div>\n",
       "<style scoped>\n",
       "    .dataframe tbody tr th:only-of-type {\n",
       "        vertical-align: middle;\n",
       "    }\n",
       "\n",
       "    .dataframe tbody tr th {\n",
       "        vertical-align: top;\n",
       "    }\n",
       "\n",
       "    .dataframe thead th {\n",
       "        text-align: right;\n",
       "    }\n",
       "</style>\n",
       "<table border=\"1\" class=\"dataframe\">\n",
       "  <thead>\n",
       "    <tr style=\"text-align: right;\">\n",
       "      <th></th>\n",
       "      <th></th>\n",
       "      <th>EMPLOYEE ID</th>\n",
       "      <th>YEARLY SALARY</th>\n",
       "      <th>DEPARTMENT NAME</th>\n",
       "    </tr>\n",
       "    <tr>\n",
       "      <th>STATE</th>\n",
       "      <th>DEPARTMENT ID</th>\n",
       "      <th></th>\n",
       "      <th></th>\n",
       "      <th></th>\n",
       "    </tr>\n",
       "  </thead>\n",
       "  <tbody>\n",
       "    <tr>\n",
       "      <th rowspan=\"7\" valign=\"top\">Delaware</th>\n",
       "      <th>1</th>\n",
       "      <td>103</td>\n",
       "      <td>103</td>\n",
       "      <td>103</td>\n",
       "    </tr>\n",
       "    <tr>\n",
       "      <th>2</th>\n",
       "      <td>109</td>\n",
       "      <td>109</td>\n",
       "      <td>109</td>\n",
       "    </tr>\n",
       "    <tr>\n",
       "      <th>3</th>\n",
       "      <td>111</td>\n",
       "      <td>111</td>\n",
       "      <td>111</td>\n",
       "    </tr>\n",
       "    <tr>\n",
       "      <th>4</th>\n",
       "      <td>91</td>\n",
       "      <td>91</td>\n",
       "      <td>91</td>\n",
       "    </tr>\n",
       "    <tr>\n",
       "      <th>5</th>\n",
       "      <td>107</td>\n",
       "      <td>107</td>\n",
       "      <td>107</td>\n",
       "    </tr>\n",
       "    <tr>\n",
       "      <th>6</th>\n",
       "      <td>116</td>\n",
       "      <td>116</td>\n",
       "      <td>116</td>\n",
       "    </tr>\n",
       "    <tr>\n",
       "      <th>7</th>\n",
       "      <td>101</td>\n",
       "      <td>101</td>\n",
       "      <td>101</td>\n",
       "    </tr>\n",
       "    <tr>\n",
       "      <th rowspan=\"7\" valign=\"top\">Maine</th>\n",
       "      <th>1</th>\n",
       "      <td>84</td>\n",
       "      <td>84</td>\n",
       "      <td>84</td>\n",
       "    </tr>\n",
       "    <tr>\n",
       "      <th>2</th>\n",
       "      <td>84</td>\n",
       "      <td>84</td>\n",
       "      <td>84</td>\n",
       "    </tr>\n",
       "    <tr>\n",
       "      <th>3</th>\n",
       "      <td>99</td>\n",
       "      <td>99</td>\n",
       "      <td>99</td>\n",
       "    </tr>\n",
       "    <tr>\n",
       "      <th>4</th>\n",
       "      <td>90</td>\n",
       "      <td>90</td>\n",
       "      <td>90</td>\n",
       "    </tr>\n",
       "    <tr>\n",
       "      <th>5</th>\n",
       "      <td>101</td>\n",
       "      <td>101</td>\n",
       "      <td>101</td>\n",
       "    </tr>\n",
       "    <tr>\n",
       "      <th>6</th>\n",
       "      <td>121</td>\n",
       "      <td>121</td>\n",
       "      <td>121</td>\n",
       "    </tr>\n",
       "    <tr>\n",
       "      <th>7</th>\n",
       "      <td>90</td>\n",
       "      <td>90</td>\n",
       "      <td>90</td>\n",
       "    </tr>\n",
       "  </tbody>\n",
       "</table>\n",
       "</div>"
      ],
      "text/plain": [
       "                        EMPLOYEE ID  YEARLY SALARY  DEPARTMENT NAME\n",
       "STATE    DEPARTMENT ID                                             \n",
       "Delaware 1                      103            103              103\n",
       "         2                      109            109              109\n",
       "         3                      111            111              111\n",
       "         4                       91             91               91\n",
       "         5                      107            107              107\n",
       "         6                      116            116              116\n",
       "         7                      101            101              101\n",
       "Maine    1                       84             84               84\n",
       "         2                       84             84               84\n",
       "         3                       99             99               99\n",
       "         4                       90             90               90\n",
       "         5                      101            101              101\n",
       "         6                      121            121              121\n",
       "         7                       90             90               90"
      ]
     },
     "execution_count": 28,
     "metadata": {},
     "output_type": "execute_result"
    }
   ],
   "source": [
    "data=A2_df[(A2_df['STATE'] == 'New Hampshire') | (A2_df['STATE'] == 'Rhode Island') | \n",
    "                       (A2_df['STATE'] == 'Maine') |(A2_df['STATE'] == 'Delaware') | \n",
    "                       (A2_df['STATE'] == 'Massachusetts')].groupby(['STATE','DEPARTMENT ID']).count()\n",
    "data.loc['Delaware':'Maine']"
   ]
  },
  {
   "cell_type": "code",
   "execution_count": 29,
   "metadata": {},
   "outputs": [
    {
     "data": {
      "text/plain": [
       "<Figure size 504x648 with 0 Axes>"
      ]
     },
     "metadata": {},
     "output_type": "display_data"
    },
    {
     "data": {
      "image/png": "[encoded data removed]",
      "text/plain": [
       "<Figure size 467.125x360 with 1 Axes>"
      ]
     },
     "metadata": {
      "needs_background": "light"
     },
     "output_type": "display_data"
    }
   ],
   "source": [
    "plt.figure(figsize=(7,9))\n",
    "\n",
    "sns.catplot(y='STATE', hue='DEPARTMENT NAME', kind='count', edgecolor='0.4',\n",
    "            palette='pastel',\n",
    "            data=A2_df[(A2_df['STATE'] == 'New Jersey') | (A2_df['STATE'] == 'North Carolina') | \n",
    "                       (A2_df['STATE'] == 'Maine') |(A2_df['STATE'] == 'Delaware') | \n",
    "                       (A2_df['STATE'] == 'Massachusetts') | (A2_df['STATE'] == 'New Hampshire') | \n",
    "                       (A2_df['STATE'] == 'Rhode Island')])\n",
    "plt.title('TOTAL NO OF EMPLOYEES Living IN EACH STATE')\n",
    "\n",
    "plt.show()\n"
   ]
  },
  {
   "cell_type": "code",
   "execution_count": 30,
   "metadata": {},
   "outputs": [
    {
     "data": {
      "text/plain": [
       "<Figure size 504x648 with 0 Axes>"
      ]
     },
     "metadata": {},
     "output_type": "display_data"
    },
    {
     "data": {
      "image/png": "[encoded data removed]",
      "text/plain": [
       "<Figure size 467.125x360 with 1 Axes>"
      ]
     },
     "metadata": {
      "needs_background": "light"
     },
     "output_type": "display_data"
    }
   ],
   "source": [
    "plt.figure(figsize=(7,9))\n",
    "\n",
    "sns.catplot(y='STATE', hue='DEPARTMENT NAME', kind='count', edgecolor='0.9',\n",
    "            palette='pastel',\n",
    "            data=A2_df[(A2_df['STATE'] == 'Florida') |\n",
    "                (A2_df['STATE'] == 'Virginia') | (A2_df['STATE'] == 'Connecticut') | \n",
    "                       (A2_df['STATE'] == 'New York') | (A2_df['STATE'] == 'Maryland') | \n",
    "                       (A2_df['STATE'] == 'South Carolina') |\n",
    "      (A2_df['STATE'] == 'Georgia')])\n",
    "plt.title('Total number of employees Living in each state for each department')\n",
    "\n",
    "plt.show()"
   ]
  },
  {
   "cell_type": "markdown",
   "metadata": {},
   "source": [
    "# 3. Visualize salary distribution of different states"
   ]
  },
  {
   "cell_type": "code",
   "execution_count": 31,
   "metadata": {},
   "outputs": [
    {
     "data": {
      "text/html": [
       "<div>\n",
       "<style scoped>\n",
       "    .dataframe tbody tr th:only-of-type {\n",
       "        vertical-align: middle;\n",
       "    }\n",
       "\n",
       "    .dataframe tbody tr th {\n",
       "        vertical-align: top;\n",
       "    }\n",
       "\n",
       "    .dataframe thead th {\n",
       "        text-align: right;\n",
       "    }\n",
       "</style>\n",
       "<table border=\"1\" class=\"dataframe\">\n",
       "  <thead>\n",
       "    <tr style=\"text-align: right;\">\n",
       "      <th></th>\n",
       "      <th>EMPLOYEE ID</th>\n",
       "      <th>NAME</th>\n",
       "      <th>LASTNAME</th>\n",
       "      <th>PHONE</th>\n",
       "      <th>STATE</th>\n",
       "      <th>DEPARTMENT ID</th>\n",
       "      <th>YEARLY SALARY</th>\n",
       "    </tr>\n",
       "  </thead>\n",
       "  <tbody>\n",
       "    <tr>\n",
       "      <th>0</th>\n",
       "      <td>24201</td>\n",
       "      <td>Danniel</td>\n",
       "      <td>Tromp</td>\n",
       "      <td>85278719</td>\n",
       "      <td>New York</td>\n",
       "      <td>7</td>\n",
       "      <td>105355</td>\n",
       "    </tr>\n",
       "    <tr>\n",
       "      <th>1</th>\n",
       "      <td>14666</td>\n",
       "      <td>Coralie</td>\n",
       "      <td>D'Amore</td>\n",
       "      <td>81396993</td>\n",
       "      <td>New Hampshire</td>\n",
       "      <td>4</td>\n",
       "      <td>209417</td>\n",
       "    </tr>\n",
       "    <tr>\n",
       "      <th>2</th>\n",
       "      <td>52349</td>\n",
       "      <td>River</td>\n",
       "      <td>Halvorson</td>\n",
       "      <td>35726643</td>\n",
       "      <td>Rhode Island</td>\n",
       "      <td>7</td>\n",
       "      <td>98478</td>\n",
       "    </tr>\n",
       "    <tr>\n",
       "      <th>3</th>\n",
       "      <td>63886</td>\n",
       "      <td>Rodrigo</td>\n",
       "      <td>Berge</td>\n",
       "      <td>38961515</td>\n",
       "      <td>Delaware</td>\n",
       "      <td>1</td>\n",
       "      <td>170477</td>\n",
       "    </tr>\n",
       "    <tr>\n",
       "      <th>4</th>\n",
       "      <td>11649</td>\n",
       "      <td>Darry</td>\n",
       "      <td>Torp</td>\n",
       "      <td>63780272</td>\n",
       "      <td>Florida</td>\n",
       "      <td>3</td>\n",
       "      <td>86713</td>\n",
       "    </tr>\n",
       "  </tbody>\n",
       "</table>\n",
       "</div>"
      ],
      "text/plain": [
       "   EMPLOYEE ID     NAME   LASTNAME     PHONE          STATE  DEPARTMENT ID  \\\n",
       "0        24201  Danniel      Tromp  85278719       New York              7   \n",
       "1        14666  Coralie    D'Amore  81396993  New Hampshire              4   \n",
       "2        52349    River  Halvorson  35726643   Rhode Island              7   \n",
       "3        63886  Rodrigo      Berge  38961515       Delaware              1   \n",
       "4        11649    Darry       Torp  63780272        Florida              3   \n",
       "\n",
       "   YEARLY SALARY  \n",
       "0         105355  \n",
       "1         209417  \n",
       "2          98478  \n",
       "3         170477  \n",
       "4          86713  "
      ]
     },
     "execution_count": 31,
     "metadata": {},
     "output_type": "execute_result"
    }
   ],
   "source": [
    "A3_DF = pd.merge(Emp_df, Salary_df, how='left', on='EMPLOYEE ID')\n",
    "A3_DF.head()"
   ]
  },
  {
   "cell_type": "code",
   "execution_count": 32,
   "metadata": {},
   "outputs": [
    {
     "data": {
      "image/png": "[encoded data removed]",
      "text/plain": [
       "<Figure size 720x360 with 1 Axes>"
      ]
     },
     "metadata": {
      "needs_background": "light"
     },
     "output_type": "display_data"
    }
   ],
   "source": [
    "plt.figure(figsize=(10,5))\n",
    "\n",
    "sns.barplot(x='STATE', y='YEARLY SALARY',data=A3_DF)\n",
    "\n",
    "plt.title('Salary Distribution Of Different States')\n",
    "plt.xticks(rotation=90)\n",
    "\n",
    "plt.show()"
   ]
  },
  {
   "cell_type": "markdown",
   "metadata": {},
   "source": [
    "# 4. Visualize salary distribution of different departments"
   ]
  },
  {
   "cell_type": "code",
   "execution_count": 33,
   "metadata": {},
   "outputs": [
    {
     "data": {
      "text/html": [
       "<div>\n",
       "<style scoped>\n",
       "    .dataframe tbody tr th:only-of-type {\n",
       "        vertical-align: middle;\n",
       "    }\n",
       "\n",
       "    .dataframe tbody tr th {\n",
       "        vertical-align: top;\n",
       "    }\n",
       "\n",
       "    .dataframe thead th {\n",
       "        text-align: right;\n",
       "    }\n",
       "</style>\n",
       "<table border=\"1\" class=\"dataframe\">\n",
       "  <thead>\n",
       "    <tr style=\"text-align: right;\">\n",
       "      <th></th>\n",
       "      <th>EMPLOYEE ID</th>\n",
       "      <th>NAME</th>\n",
       "      <th>LASTNAME</th>\n",
       "      <th>PHONE</th>\n",
       "      <th>STATE</th>\n",
       "      <th>DEPARTMENT ID</th>\n",
       "      <th>YEARLY SALARY</th>\n",
       "      <th>DEPARTMENT NAME</th>\n",
       "    </tr>\n",
       "  </thead>\n",
       "  <tbody>\n",
       "    <tr>\n",
       "      <th>0</th>\n",
       "      <td>24201</td>\n",
       "      <td>Danniel</td>\n",
       "      <td>Tromp</td>\n",
       "      <td>85278719</td>\n",
       "      <td>New York</td>\n",
       "      <td>7</td>\n",
       "      <td>105355</td>\n",
       "      <td>Services</td>\n",
       "    </tr>\n",
       "    <tr>\n",
       "      <th>1</th>\n",
       "      <td>14666</td>\n",
       "      <td>Coralie</td>\n",
       "      <td>D'Amore</td>\n",
       "      <td>81396993</td>\n",
       "      <td>New Hampshire</td>\n",
       "      <td>4</td>\n",
       "      <td>209417</td>\n",
       "      <td>Sales</td>\n",
       "    </tr>\n",
       "    <tr>\n",
       "      <th>2</th>\n",
       "      <td>52349</td>\n",
       "      <td>River</td>\n",
       "      <td>Halvorson</td>\n",
       "      <td>35726643</td>\n",
       "      <td>Rhode Island</td>\n",
       "      <td>7</td>\n",
       "      <td>98478</td>\n",
       "      <td>Services</td>\n",
       "    </tr>\n",
       "    <tr>\n",
       "      <th>3</th>\n",
       "      <td>63886</td>\n",
       "      <td>Rodrigo</td>\n",
       "      <td>Berge</td>\n",
       "      <td>38961515</td>\n",
       "      <td>Delaware</td>\n",
       "      <td>1</td>\n",
       "      <td>170477</td>\n",
       "      <td>Finance</td>\n",
       "    </tr>\n",
       "    <tr>\n",
       "      <th>4</th>\n",
       "      <td>11649</td>\n",
       "      <td>Darry</td>\n",
       "      <td>Torp</td>\n",
       "      <td>63780272</td>\n",
       "      <td>Florida</td>\n",
       "      <td>3</td>\n",
       "      <td>86713</td>\n",
       "      <td>HR</td>\n",
       "    </tr>\n",
       "  </tbody>\n",
       "</table>\n",
       "</div>"
      ],
      "text/plain": [
       "   EMPLOYEE ID     NAME   LASTNAME     PHONE          STATE  DEPARTMENT ID  \\\n",
       "0        24201  Danniel      Tromp  85278719       New York              7   \n",
       "1        14666  Coralie    D'Amore  81396993  New Hampshire              4   \n",
       "2        52349    River  Halvorson  35726643   Rhode Island              7   \n",
       "3        63886  Rodrigo      Berge  38961515       Delaware              1   \n",
       "4        11649    Darry       Torp  63780272        Florida              3   \n",
       "\n",
       "   YEARLY SALARY DEPARTMENT NAME  \n",
       "0         105355        Services  \n",
       "1         209417           Sales  \n",
       "2          98478        Services  \n",
       "3         170477         Finance  \n",
       "4          86713              HR  "
      ]
     },
     "execution_count": 33,
     "metadata": {},
     "output_type": "execute_result"
    }
   ],
   "source": [
    "A4_DF = pd.merge(Emp_df, Salary_df, how='left', on='EMPLOYEE ID')\n",
    "\n",
    "A4_DF = pd.merge(A4_DF, DPT_ID, how='left', on='DEPARTMENT ID')\n",
    "A4_DF.head()"
   ]
  },
  {
   "cell_type": "code",
   "execution_count": 34,
   "metadata": {},
   "outputs": [
    {
     "data": {
      "image/png": "[encoded data removed]",
      "text/plain": [
       "<Figure size 576x432 with 1 Axes>"
      ]
     },
     "metadata": {
      "needs_background": "light"
     },
     "output_type": "display_data"
    }
   ],
   "source": [
    "plt.figure(figsize=(8,6))\n",
    "\n",
    "sns.barplot(x='DEPARTMENT NAME', y='YEARLY SALARY',data=A4_DF)\n",
    "\n",
    "plt.title('Salary Distribution Of Different Departments')\n",
    "plt.xticks(rotation=90)\n",
    "\n",
    "plt.show()"
   ]
  }
 ],
 "metadata": {
  "kernelspec": {
   "display_name": "Python 3 (ipykernel)",
   "language": "python",
   "name": "python3"
  },
  "language_info": {
   "codemirror_mode": {
    "name": "ipython",
    "version": 3
   },
   "file_extension": ".py",
   "mimetype": "text/x-python",
   "name": "python",
   "nbconvert_exporter": "python",
   "pygments_lexer": "ipython3",
   "version": "3.9.7"
  },
  "toc": {
   "base_numbering": 1,
   "nav_menu": {},
   "number_sections": false,
   "sideBar": true,
   "skip_h1_title": false,
   "title_cell": "Table of Contents",
   "title_sidebar": "Contents",
   "toc_cell": false,
   "toc_position": {},
   "toc_section_display": true,
   "toc_window_display": false
  },
  "varInspector": {
   "cols": {
    "lenName": 16,
    "lenType": 16,
    "lenVar": 40
   },
   "kernels_config": {
    "python": {
     "delete_cmd_postfix": "",
     "delete_cmd_prefix": "del ",
     "library": "var_list.py",
     "varRefreshCmd": "print(var_dic_list())"
    },
    "r": {
     "delete_cmd_postfix": ") ",
     "delete_cmd_prefix": "rm(",
     "library": "var_list.r",
     "varRefreshCmd": "cat(var_dic_list()) "
    }
   },
   "types_to_exclude": [
    "module",
    "function",
    "builtin_function_or_method",
    "instance",
    "_Feature"
   ],
   "window_display": false
  },
  "vscode": {
   "interpreter": {
    "hash": "397704579725e15f5c7cb49fe5f0341eb7531c82d19f2c29d197e8b64ab5776b"
   }
  }
 },
 "nbformat": 4,
 "nbformat_minor": 2
}
