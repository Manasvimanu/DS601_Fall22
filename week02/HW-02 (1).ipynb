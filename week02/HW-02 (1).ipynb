{
 "cells": [
  {
   "cell_type": "markdown",
   "id": "c74fbf83",
   "metadata": {},
   "source": [
    "## Homework 2\n",
    "\n",
    "Please complete the functions below. These functions are for to simulate a fair and a biased die. \n",
    "\n",
    "The biased die has probabilities {0.20, 0.10, 0.15, 0.15, 0.15, 0.25}.\n",
    "\n",
    "Create 2 visualizations that shows outcomes of multiple rolls of a fair die and biased die. \n",
    "* Visualization for fair die\n",
    "* Visualization for biased die\n",
    "\n",
    "Repeat the process programatically and take the mean to create a new list. This list will be used to compare means of biased & unbiased dice. \n",
    "* Create a historgram showing means of biased & unbiased die\n",
    "\n",
    "* Use subcharts\n",
    "* All visualizations must have appropriate titles.\n",
    "* There are 3 visualization and expected format is \n",
    "```\n",
    " [V1] [V2]\n",
    " [   V3  ]\n",
    " ```"
   ]
  },
  {
   "cell_type": "code",
   "execution_count": 1,
   "id": "1301ab27",
   "metadata": {},
   "outputs": [],
   "source": [
    "import random \n",
    "import matplotlib.pyplot as plt\n",
    "import numpy as np\n",
    "from random import choices\n",
    "\n",
    "trial_count = 500\n",
    "f_simulations = []\n",
    "f_mn =[0,0,0,0,0,0]\n",
    "f_value=0\n",
    "b_value=0\n",
    "b_simulations=[]\n",
    "b_mn=[0,0,0,0,0,0]\n",
    "opts=[1,2,3,4,5,6]\n",
    "\n",
    "def fair_die_simulation(trials):\n",
    "    for i in range(trial_count):\n",
    "        f_value=random.randint(1,6)\n",
    "        f_simulations.append(f_value)\n",
    "        f_mn[f_value-1]=f_mn[f_value-1]+1\n",
    "    return f_simulations"
   ]
  },
  {
   "cell_type": "code",
   "execution_count": 2,
   "id": "b361cda3",
   "metadata": {},
   "outputs": [],
   "source": [
    "def biased_die_simulations(trials, weights=[0.25, 0.15, 0.15, 0.15, 0.15, 0.15]):\n",
    "    for j in range(trial_count):\n",
    "        b_value=(random.choices(opts,weights))\n",
    "        b_simulations.append(b_value)\n",
    "        l=b_value[0]\n",
    "        b_mn[l-1]=b_mn[l-1]+1\n",
    "    return b_simulations"
   ]
  },
  {
   "cell_type": "code",
   "execution_count": 3,
   "id": "7684d508",
   "metadata": {},
   "outputs": [
    {
     "data": {
      "image/png": "[encoded data removed]",
      "text/plain": [
       "<Figure size 432x288 with 2 Axes>"
      ]
     },
     "metadata": {
      "needs_background": "light"
     },
     "output_type": "display_data"
    },
    {
     "data": {
      "image/png": "[encoded data removed]",
      "text/plain": [
       "<Figure size 432x288 with 1 Axes>"
      ]
     },
     "metadata": {
      "needs_background": "light"
     },
     "output_type": "display_data"
    }
   ],
   "source": [
    "biased = biased_die_simulations(trial_count)\n",
    "fair = fair_die_simulation(trial_count)\n",
    "by=plt.subplot(1,2,1)\n",
    "by.set_xlabel('Counts')\n",
    "by.set_title('Fair(x1)')\n",
    "by.set_ylabel('Die outcome')\n",
    "result=by.bar(opts,f_mn)\n",
    "by=plt.subplot(1,2,2)\n",
    "by.set_ylabel('Counts')\n",
    "by.set_title('Biased(x2)')\n",
    "by.set_ylabel('Die outcome')\n",
    "result=by.bar(opts,b_mn)\n",
    "y_axis=np.arange(6)\n",
    "fig,by=plt.subplots()\n",
    "by.set_xlabel('Counts')\n",
    "by.set_title('comparision(x3)')\n",
    "by.set_ylabel('Die outcome')\n",
    "result=by.bar(y_axis-0.2,f_mn,0.4,label='Fair')\n",
    "result=by.bar(y_axis+0.2,b_mn,0.4,label='Biased')"
   ]
  },
  {
   "cell_type": "code",
   "execution_count": null,
   "id": "3624759e",
   "metadata": {},
   "outputs": [],
   "source": []
  },
  {
   "cell_type": "code",
   "execution_count": null,
   "id": "6f131fe4",
   "metadata": {},
   "outputs": [],
   "source": []
  },
  {
   "cell_type": "code",
   "execution_count": null,
   "id": "56117c29",
   "metadata": {},
   "outputs": [],
   "source": []
  },
  {
   "cell_type": "code",
   "execution_count": null,
   "id": "f9ce4b22",
   "metadata": {},
   "outputs": [],
   "source": []
  }
 ],
 "metadata": {
  "kernelspec": {
   "display_name": "Python 3 (ipykernel)",
   "language": "python",
   "name": "python3"
  },
  "language_info": {
   "codemirror_mode": {
    "name": "ipython",
    "version": 3
   },
   "file_extension": ".py",
   "mimetype": "text/x-python",
   "name": "python",
   "nbconvert_exporter": "python",
   "pygments_lexer": "ipython3",
   "version": "3.9.7"
  },
  "toc": {
   "base_numbering": 1,
   "nav_menu": {},
   "number_sections": true,
   "sideBar": true,
   "skip_h1_title": false,
   "title_cell": "Table of Contents",
   "title_sidebar": "Contents",
   "toc_cell": false,
   "toc_position": {},
   "toc_section_display": true,
   "toc_window_display": false
  }
 },
 "nbformat": 4,
 "nbformat_minor": 5
}
