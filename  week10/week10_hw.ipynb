{
 "cells": [
  {
   "cell_type": "markdown",
   "metadata": {},
   "source": [
    "# Week 10 Homework\n",
    "\n",
    "Extend the following class and name this class `ModuleLister`\n",
    "\n",
    "This will find all unique modules in your homework and labs."
   ]
  },
  {
   "cell_type": "code",
   "execution_count": 1,
   "metadata": {},
   "outputs": [],
   "source": [
    "### DON'T CHANGE THIS CELL\n",
    "import os\n",
    "\n",
    "class FileProcessor:\n",
    "    \n",
    "    def __init__(self, path, file_types=['.ipynb']):\n",
    "        self.files = self.find_all_files(path, file_types)\n",
    "        print(f'{len(self.files)} file(s) found...')\n",
    "\n",
    "    \n",
    "    def find_all_files(self, path, file_types):\n",
    "        paths = []\n",
    "        for root, dirs, files in os.walk(path):\n",
    "            for file in files:\n",
    "                if any([file.endswith(ft) for ft in file_types]):\n",
    "                    path = os.path.join(root, file)\n",
    "                    # print(path)\n",
    "                    paths.append(path)\n",
    "        return paths\n",
    "    \n",
    "    def read_file(self, file_path, encoding='utf8'):\n",
    "        with open(file_path,encoding=encoding) as f:\n",
    "            return f.read()\n",
    "    \n",
    "    def start(self):\n",
    "        \"\"\"\n",
    "        Entry point for the class\n",
    "        \"\"\"\n",
    "        for file in self.files:\n",
    "            self.process_file(file)\n",
    "        \n",
    "    def process_file(self, file_path):\n",
    "        \"\"\"\n",
    "        abstract method\n",
    "        \"\"\"\n",
    "        raise NotImplemented('process_file method not implemented')"
   ]
  },
  {
   "cell_type": "code",
   "execution_count": 2,
   "metadata": {},
   "outputs": [],
   "source": [
    "listarr=[]"
   ]
  },
  {
   "cell_type": "code",
   "execution_count": 3,
   "metadata": {},
   "outputs": [],
   "source": [
    "### your code starts here\n",
    "\n",
    "class ModuleLister(FileProcessor):\n",
    "    def __init__(self,path):\n",
    "        super().__init__(path)\n",
    "        \n",
    "    def process_file(self, FILE_PATH):\n",
    "        Len = processor.read_file(FILE_PATH,encoding='latin-1')\n",
    "        S = Len.split(',')\n",
    "        for i in range(len(S)):\n",
    "            if \"import\" in S[i]:\n",
    "                A = S[i].split(\"import\")\n",
    "                Len = len(A)\n",
    "                listarr.append(A[Len-1])\n",
    "        \n",
    "            \n",
    "        \n",
    "    "
   ]
  },
  {
   "cell_type": "code",
   "execution_count": 4,
   "metadata": {},
   "outputs": [
    {
     "name": "stdout",
     "output_type": "stream",
     "text": [
      "27 file(s) found...\n"
     ]
    }
   ],
   "source": [
    "processor = ModuleLister(path='/Users/pentareddymanasvi/Desktop/DS601_Fall22') # change the path according to your path"
   ]
  },
  {
   "cell_type": "code",
   "execution_count": 5,
   "metadata": {},
   "outputs": [],
   "source": [
    "processor.start()\n",
    "    "
   ]
  },
  {
   "cell_type": "code",
   "execution_count": 6,
   "metadata": {},
   "outputs": [
    {
     "data": {
      "text/plain": [
       "[' pandas as pd\\\\n\"',\n",
       " ' matplotlib.pyplot as plt\\\\n\"',\n",
       " ' pandas as pd\\\\n\"',\n",
       " ' pandas\\\\n\"',\n",
       " ' datetime\\\\n\"',\n",
       " ' matplotlib.pyplot as plt\\\\n\"',\n",
       " ' pandas as pd\\\\n\"',\n",
       " ' fuzzywuzzy\"\\n   ]\\n  }',\n",
       " ' fuzz\\\\n\"',\n",
       " ' pandas as pd\"\\n   ]\\n  }',\n",
       " ' re\\\\n\"',\n",
       " ' pandas as pd\\\\n\"',\n",
       " 'ant part of your role at work: (Select all that apply) - Other - Text\\\\n\"',\n",
       " ' pandas as pd\\\\n\"',\n",
       " ' matplotlib\\\\n\"',\n",
       " ' matplotlib.pyplot as plt\"\\n   ]\\n  }',\n",
       " ' pandas as pd\\\\n\"',\n",
       " ' matplotlib\\\\n\"',\n",
       " ' matplotlib.pyplot as plt\"\\n   ]\\n  }',\n",
       " ' numpy as np\\\\n\"',\n",
       " ' pandas as pd\\\\n\"',\n",
       " ' matplotlib.pyplot as plt\\\\n\"',\n",
       " ' seaborn as sns\"\\n   ]\\n  }',\n",
       " ' random\\\\n\"',\n",
       " ' choices \\\\n\"',\n",
       " ' Provider\\\\n\"',\n",
       " ' Provider\\\\n\"',\n",
       " ' numpy as np\\\\n\"',\n",
       " ' pandas as pd\\\\n\"',\n",
       " ' matplotlib.pyplot as plt\\\\n\"',\n",
       " ' seaborn as sns\"\\n   ]\\n  }',\n",
       " ' random\\\\n\"',\n",
       " ' choices \\\\n\"',\n",
       " ' Provider\\\\n\"',\n",
       " ' Provider\\\\n\"',\n",
       " ' request\\\\n\"',\n",
       " ' ZipFile\\\\n\"',\n",
       " ' csv\\\\n\"',\n",
       " ' pyplot as plt\\\\n\"',\n",
       " ' Counter\\\\n\"',\n",
       " ' request\\\\n\"',\n",
       " ' ZipFile\\\\n\"',\n",
       " ' pandas as pd\\\\n\"',\n",
       " ' seaborn as sns\\\\n\"',\n",
       " ' request\\\\n\"',\n",
       " ' ZipFile\\\\n\"',\n",
       " ' pandas as pd\\\\n\"',\n",
       " ' seaborn as sns\\\\n\"',\n",
       " ' request\\\\n\"',\n",
       " ' ZipFile\\\\n\"',\n",
       " ' csv\\\\n\"',\n",
       " ' pyplot as plt\\\\n\"',\n",
       " ' Counter\\\\n\"',\n",
       " ' pandas as pd\\\\n\"',\n",
       " ' numpy as np\\\\n\"',\n",
       " ' seaborn as sns\\\\n\"',\n",
       " ' pyplot as plt\"\\n   ]\\n  }',\n",
       " ' pandas as pd\\\\n\"',\n",
       " ' numpy as np\\\\n\"',\n",
       " ' seaborn as sns\\\\n\"',\n",
       " ' pyplot as plt\"\\n   ]\\n  }',\n",
       " ' pandas as pd\\\\n\"',\n",
       " ' seaborn as sns\\\\n\"',\n",
       " ' pyplot as plt\\\\n\"',\n",
       " ' numpy\\\\n\"',\n",
       " ' numpy as np\\\\n\"',\n",
       " ' seaborn as sns\\\\n\"',\n",
       " ' seaborn as sns\\\\n\"',\n",
       " ' seaborn as sns\\\\n\"',\n",
       " ' pandas as pd\\\\n\"',\n",
       " ' seaborn as sns\\\\n\"',\n",
       " ' pandas as pd\\\\n\"',\n",
       " ' pandas as pd\\\\n\"',\n",
       " ' seaborn as sns\\\\n\"',\n",
       " ' pyplot as plt\\\\n\"',\n",
       " ' numpy\\\\n\"',\n",
       " ' numpy as np\\\\n\"',\n",
       " ' seaborn as sns\\\\n\"',\n",
       " ' seaborn as sns\\\\n\"',\n",
       " ' random \\\\n\"',\n",
       " ' matplotlib.pyplot as plt\\\\n\"',\n",
       " ' numpy as np\\\\n\"',\n",
       " ' choices\\\\n\"',\n",
       " ' pandas as pd\\\\n\"',\n",
       " ' pandas as pd\\\\n\"',\n",
       " ' pandas as pd\\\\n\"',\n",
       " ' pandas as pd\\\\n\"']"
      ]
     },
     "execution_count": 6,
     "metadata": {},
     "output_type": "execute_result"
    }
   ],
   "source": [
    "listarr"
   ]
  },
  {
   "cell_type": "code",
   "execution_count": 9,
   "metadata": {},
   "outputs": [],
   "source": [
    "unique_modules={}\n",
    "for i in listarr:\n",
    "    i=str(i)\n",
    "    if i not in unique_modules:\n",
    "        unique_modules[i]=1\n"
   ]
  },
  {
   "cell_type": "code",
   "execution_count": 10,
   "metadata": {},
   "outputs": [
    {
     "data": {
      "text/plain": [
       "{' pandas as pd\\\\n\"': 1,\n",
       " ' matplotlib.pyplot as plt\\\\n\"': 1,\n",
       " ' pandas\\\\n\"': 1,\n",
       " ' datetime\\\\n\"': 1,\n",
       " ' fuzzywuzzy\"\\n   ]\\n  }': 1,\n",
       " ' fuzz\\\\n\"': 1,\n",
       " ' pandas as pd\"\\n   ]\\n  }': 1,\n",
       " ' re\\\\n\"': 1,\n",
       " 'ant part of your role at work: (Select all that apply) - Other - Text\\\\n\"': 1,\n",
       " ' matplotlib\\\\n\"': 1,\n",
       " ' matplotlib.pyplot as plt\"\\n   ]\\n  }': 1,\n",
       " ' numpy as np\\\\n\"': 1,\n",
       " ' seaborn as sns\"\\n   ]\\n  }': 1,\n",
       " ' random\\\\n\"': 1,\n",
       " ' choices \\\\n\"': 1,\n",
       " ' Provider\\\\n\"': 1,\n",
       " ' request\\\\n\"': 1,\n",
       " ' ZipFile\\\\n\"': 1,\n",
       " ' csv\\\\n\"': 1,\n",
       " ' pyplot as plt\\\\n\"': 1,\n",
       " ' Counter\\\\n\"': 1,\n",
       " ' seaborn as sns\\\\n\"': 1,\n",
       " ' pyplot as plt\"\\n   ]\\n  }': 1,\n",
       " ' numpy\\\\n\"': 1,\n",
       " ' random \\\\n\"': 1,\n",
       " ' choices\\\\n\"': 1}"
      ]
     },
     "execution_count": 10,
     "metadata": {},
     "output_type": "execute_result"
    }
   ],
   "source": [
    "unique_modules"
   ]
  }
 ],
 "metadata": {
  "kernelspec": {
   "display_name": "Python 3 (ipykernel)",
   "language": "python",
   "name": "python3"
  },
  "language_info": {
   "codemirror_mode": {
    "name": "ipython",
    "version": 3
   },
   "file_extension": ".py",
   "mimetype": "text/x-python",
   "name": "python",
   "nbconvert_exporter": "python",
   "pygments_lexer": "ipython3",
   "version": "3.9.7"
  },
  "toc": {
   "base_numbering": 1,
   "nav_menu": {},
   "number_sections": true,
   "sideBar": true,
   "skip_h1_title": false,
   "title_cell": "Table of Contents",
   "title_sidebar": "Contents",
   "toc_cell": false,
   "toc_position": {},
   "toc_section_display": true,
   "toc_window_display": false
  },
  "varInspector": {
   "cols": {
    "lenName": 16,
    "lenType": 16,
    "lenVar": 40
   },
   "kernels_config": {
    "python": {
     "delete_cmd_postfix": "",
     "delete_cmd_prefix": "del ",
     "library": "var_list.py",
     "varRefreshCmd": "print(var_dic_list())"
    },
    "r": {
     "delete_cmd_postfix": ") ",
     "delete_cmd_prefix": "rm(",
     "library": "var_list.r",
     "varRefreshCmd": "cat(var_dic_list()) "
    }
   },
   "types_to_exclude": [
    "module",
    "function",
    "builtin_function_or_method",
    "instance",
    "_Feature"
   ],
   "window_display": false
  }
 },
 "nbformat": 4,
 "nbformat_minor": 2
}
