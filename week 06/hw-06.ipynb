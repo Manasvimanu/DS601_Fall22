{
 "cells": [
  {
   "cell_type": "markdown",
   "metadata": {},
   "source": [
    "# Homework 6\n",
    "\n",
    "\n",
    "This homework is designed to process a large csv file (bigger than pandas can handle)\n",
    "https://github.com/msaricaumbc/DS_data/blob/master/bigfile.csv.zip?raw=true\n",
    "\n",
    "Write code to perform/answer the following actions:\n",
    "\n",
    "1. Print how many records processed\n",
    "1. Create a histogram of ages\n",
    "1. List the top 20 occupations \n",
    "\n",
    "Don't use Pandas or Dask"
   ]
  },
  {
   "cell_type": "code",
   "execution_count": 1,
   "metadata": {},
   "outputs": [],
   "source": [
    "#!head \n",
    "\n",
    "from urllib import request\n",
    "\n",
    "def download_file(file_name, url):\n",
    "    res = request.urlopen(url)\n",
    "    with open(file_name,'wb') as file:\n",
    "        file.write(res.read())\n",
    "        \n",
    "file_url = 'https://github.com/msaricaumbc/DS_data/blob/master/bigfile.csv.zip?raw=true'\n",
    "file_name = 'bigfile.zip'"
   ]
  },
  {
   "cell_type": "code",
   "execution_count": 2,
   "metadata": {},
   "outputs": [],
   "source": [
    "download_file(file_name,file_url)"
   ]
  },
  {
   "cell_type": "code",
   "execution_count": 3,
   "metadata": {},
   "outputs": [
    {
     "name": "stdout",
     "output_type": "stream",
     "text": [
      "File Name                                             Modified             Size\n",
      "bigfile.csv                                    2022-03-07 20:08:48  18034182194\n",
      "Extracting all the files now...\n",
      "Done!\n"
     ]
    }
   ],
   "source": [
    "from zipfile import ZipFile\n",
    "def unzip(file_name, path='./'):\n",
    "    with ZipFile(file_name, 'r') as zip:\n",
    "        zip.printdir()\n",
    "        print('Extracting all the files now...') \n",
    "        zip.extractall(path = path) \n",
    "        print('Done!') \n",
    "unzip(file_name)"
   ]
  },
  {
   "cell_type": "code",
   "execution_count": 4,
   "metadata": {},
   "outputs": [
    {
     "name": "stdout",
     "output_type": "stream",
     "text": [
      "Total no of records processed: 600000\n"
     ]
    }
   ],
   "source": [
    "# PRINT TOTAL RECORDS PROCESSED \n",
    "row_count=0\n",
    "for Row in open(\"bigfile.csv\"):\n",
    "    row_count+= 1\n",
    "print('Total no of records processed:',row_count)"
   ]
  },
  {
   "cell_type": "code",
   "execution_count": 9,
   "metadata": {},
   "outputs": [],
   "source": [
    "import csv\n",
    "age=[]\n",
    "occupation=[]\n",
    "with open('bigfile.csv', 'r') as file:\n",
    "    while(True):\n",
    "        File = file.readline()\n",
    "        if not File:\n",
    "            break\n",
    "        File2 = File.split(',')\n",
    "        #Including the ages of the people \n",
    "        age.append(int(File2[3]))\n",
    "        #Including all the occupations \n",
    "        occupation.append(File2[4])\n",
    "file.close()"
   ]
  },
  {
   "cell_type": "code",
   "execution_count": 10,
   "metadata": {},
   "outputs": [
    {
     "data": {
      "image/png": "[encoded data removed]",
      "text/plain": [
       "<Figure size 576x432 with 1 Axes>"
      ]
     },
     "metadata": {
      "needs_background": "light"
     },
     "output_type": "display_data"
    }
   ],
   "source": [
    "# CREATE A HISTOGRAM OF AGES\n",
    "\n",
    "from matplotlib import pyplot as plt\n",
    "plt.figure(figsize=(8,6))\n",
    "plt.title(\"HISTOGRAM FOR AGES\")\n",
    "plt.xlabel(\"AGE\")\n",
    "plt.ylabel(\"NO OF PEOPLE\")\n",
    "plt.hist(age,edgecolor='black',color='blue')\n",
    "plt.show()"
   ]
  },
  {
   "cell_type": "code",
   "execution_count": 8,
   "metadata": {},
   "outputs": [
    {
     "name": "stdout",
     "output_type": "stream",
     "text": [
      "Scientist- product/process development\n",
      "Psychiatric nurse\n",
      "Therapist- sports\n",
      "Toxicologist\n",
      "Social researcher\n",
      "Environmental health practitioner\n",
      "Naval architect\n",
      "Teacher- primary school\n",
      "Administrator- charities/voluntary organisations\n",
      "Chartered loss adjuster\n",
      "Photographer\n",
      "Field trials officer\n",
      "Radio producer\n",
      "Ranger/warden\n",
      "Electrical engineer\n",
      "Radiographer- diagnostic\n",
      "Acupuncturist\n",
      "Administrator- education\n",
      "Quantity surveyor\n",
      "Research scientist (medical)\n",
      "Biomedical engineer\n"
     ]
    }
   ],
   "source": [
    "# TOP 20 OCCUPATIONS\n",
    "from collections import Counter\n",
    "RESULT = [item for items, c in Counter(occupation).most_common() for item in [items]]\n",
    "for i in range(0,21):\n",
    "    print(RESULT[i])"
   ]
  }
 ],
 "metadata": {
  "kernelspec": {
   "display_name": "Python 3 (ipykernel)",
   "language": "python",
   "name": "python3"
  },
  "language_info": {
   "codemirror_mode": {
    "name": "ipython",
    "version": 3
   },
   "file_extension": ".py",
   "mimetype": "text/x-python",
   "name": "python",
   "nbconvert_exporter": "python",
   "pygments_lexer": "ipython3",
   "version": "3.9.7"
  },
  "toc": {
   "base_numbering": 1,
   "nav_menu": {},
   "number_sections": true,
   "sideBar": true,
   "skip_h1_title": false,
   "title_cell": "Table of Contents",
   "title_sidebar": "Contents",
   "toc_cell": false,
   "toc_position": {},
   "toc_section_display": true,
   "toc_window_display": false
  },
  "varInspector": {
   "cols": {
    "lenName": 16,
    "lenType": 16,
    "lenVar": 40
   },
   "kernels_config": {
    "python": {
     "delete_cmd_postfix": "",
     "delete_cmd_prefix": "del ",
     "library": "var_list.py",
     "varRefreshCmd": "print(var_dic_list())"
    },
    "r": {
     "delete_cmd_postfix": ") ",
     "delete_cmd_prefix": "rm(",
     "library": "var_list.r",
     "varRefreshCmd": "cat(var_dic_list()) "
    }
   },
   "types_to_exclude": [
    "module",
    "function",
    "builtin_function_or_method",
    "instance",
    "_Feature"
   ],
   "window_display": false
  }
 },
 "nbformat": 4,
 "nbformat_minor": 2
}
