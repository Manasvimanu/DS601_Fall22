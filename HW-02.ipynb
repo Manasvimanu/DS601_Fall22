{
 "cells": [
  {
   "cell_type": "markdown",
   "id": "425024c2",
   "metadata": {},
   "source": [
    "## Homework 2\n",
    "\n",
    "Please complete the functions below. These functions are for to simulate a fair and a biased die. \n",
    "\n",
    "The biased die has probabilities {0.20, 0.10, 0.15, 0.15, 0.15, 0.25}.\n",
    "\n",
    "Create 2 visualizations that shows outcomes of multiple rolls of a fair die and biased die. \n",
    "* Visualization for fair die\n",
    "* Visualization for biased die\n",
    "\n",
    "Repeat the process programatically and take the mean to create a new list. This list will be used to compare means of biased & unbiased dice. \n",
    "* Create a historgram showing means of biased & unbiased die\n",
    "\n",
    "* Use subcharts\n",
    "* All visualizations must have appropriate titles.\n",
    "* There are 3 visualization and expected format is \n",
    "```\n",
    " [V1] [V2]\n",
    " [   V3  ]\n",
    " ```"
   ]
  },
  {
   "cell_type": "code",
   "execution_count": 1,
   "id": "7078d18a",
   "metadata": {},
   "outputs": [],
   "source": [
    "import random \n",
    "import matplotlib.pyplot as plt\n",
    "import numpy as np\n",
    "from random import choices\n",
    "\n",
    "trial_count = 500\n",
    "fair_simulations = []\n",
    "fair_mean =[0,0,0,0,0,0]\n",
    "fair_value=0\n",
    "biased_value=0\n",
    "biased_simulations=[]\n",
    "biased_mean=[0,0,0,0,0,0]\n",
    "options=[1,2,3,4,5,6]\n",
    "\n",
    "def fair_die_simulation(trials):\n",
    "    for i in range(trial_count):\n",
    "        fair_value=random.randint(1,6)\n",
    "        fair_simulations.append(fair_value)\n",
    "        fair_mean[fair_value-1]=fair_mean[fair_value-1]+1\n",
    "    return fair_simulations"
   ]
  },
  {
   "cell_type": "code",
   "execution_count": 2,
   "id": "5a02e11e",
   "metadata": {},
   "outputs": [],
   "source": [
    "def biased_die_simulations(trials, weights=[0.25, 0.15, 0.15, 0.15, 0.15, 0.15]):\n",
    "    for j in range(trial_count):\n",
    "        biased_value=(random.choices(options,weights))\n",
    "        biased_simulations.append(biased_value)\n",
    "        l=biased_value[0]\n",
    "        biased_mean[l-1]=biased_mean[l-1]+1\n",
    "    return biased_simulations"
   ]
  },
  {
   "cell_type": "code",
   "execution_count": 3,
   "id": "820b8321",
   "metadata": {},
   "outputs": [
    {
     "data": {
      "image/png": "[encoded data removed]",
      "text/plain": [
       "<Figure size 432x288 with 2 Axes>"
      ]
     },
     "metadata": {
      "needs_background": "light"
     },
     "output_type": "display_data"
    },
    {
     "data": {
      "image/png": "[encoded data removed]",
      "text/plain": [
       "<Figure size 432x288 with 1 Axes>"
      ]
     },
     "metadata": {
      "needs_background": "light"
     },
     "output_type": "display_data"
    }
   ],
   "source": [
    "biased = biased_die_simulations(trial_count)\n",
    "fair = fair_die_simulation(trial_count)\n",
    "ax=plt.subplot(1,2,1)\n",
    "ax.set_ylabel('Counts')\n",
    "ax.set_title('Fair(V1)')\n",
    "ax.set_xlabel('Die outcome')\n",
    "result=ax.bar(options,fair_mean)\n",
    "ax=plt.subplot(1,2,2)\n",
    "ax.set_ylabel('Counts')\n",
    "ax.set_title('Biased(V2)')\n",
    "ax.set_xlabel('Die outcome')\n",
    "result=ax.bar(options,biased_mean)\n",
    "x_axis=np.arange(6)\n",
    "fig,ax=plt.subplots()\n",
    "ax.set_ylabel('Counts')\n",
    "ax.set_title('comparision(V3)')\n",
    "ax.set_xlabel('Die outcome')\n",
    "result=ax.bar(x_axis-0.2,fair_mean,0.4,label='Fair')\n",
    "result=ax.bar(x_axis+0.2,biased_mean,0.4,label='Biased')"
   ]
  }
 ],
 "metadata": {
  "kernelspec": {
   "display_name": "Python 3 (ipykernel)",
   "language": "python",
   "name": "python3"
  },
  "language_info": {
   "codemirror_mode": {
    "name": "ipython",
    "version": 3
   },
   "file_extension": ".py",
   "mimetype": "text/x-python",
   "name": "python",
   "nbconvert_exporter": "python",
   "pygments_lexer": "ipython3",
   "version": "3.9.7"
  },
  "toc": {
   "base_numbering": 1,
   "nav_menu": {},
   "number_sections": true,
   "sideBar": true,
   "skip_h1_title": false,
   "title_cell": "Table of Contents",
   "title_sidebar": "Contents",
   "toc_cell": false,
   "toc_position": {},
   "toc_section_display": true,
   "toc_window_display": false
  }
 },
 "nbformat": 4,
 "nbformat_minor": 5
}
